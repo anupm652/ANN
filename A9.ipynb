{
 "cells": [
  {
   "cell_type": "code",
   "execution_count": 1,
   "id": "88d1287d",
   "metadata": {},
   "outputs": [],
   "source": [
    "import numpy as np"
   ]
  },
  {
   "cell_type": "code",
   "execution_count": 2,
   "id": "0bc79024",
   "metadata": {},
   "outputs": [],
   "source": [
    "patterns = np.array([\n",
    "    [1, -1, 1, -1],\n",
    "    [-1, 1, -1, 1],\n",
    "    [1, 1, -1, -1],\n",
    "    [-1, -1, 1, 1]\n",
    "])"
   ]
  },
  {
   "cell_type": "code",
   "execution_count": 3,
   "id": "ca6dcd72",
   "metadata": {},
   "outputs": [],
   "source": [
    "# Train the Hopfield network\n",
    "weights = np.dot(patterns.T, patterns)\n",
    "np.fill_diagonal(weights, 0)"
   ]
  },
  {
   "cell_type": "code",
   "execution_count": 8,
   "id": "32b458b2-8ad6-4cf6-8bd5-b89b4d4f5455",
   "metadata": {},
   "outputs": [],
   "source": [
    "# Recall a pattern\n",
    "recall_pattern = np.array([1, 1, -1, -1])\n",
    "retrieved_pattern = np.sign(np.dot(weights, recall_pattern))"
   ]
  },
  {
   "cell_type": "code",
   "execution_count": 9,
   "id": "c086612d",
   "metadata": {},
   "outputs": [
    {
     "name": "stdout",
     "output_type": "stream",
     "text": [
      "Retrieved Pattern:\n",
      "[ 1  1 -1 -1]\n"
     ]
    }
   ],
   "source": [
    "print(\"Retrieved Pattern:\")\n",
    "print(retrieved_pattern)"
   ]
  },
  {
   "cell_type": "code",
   "execution_count": null,
   "id": "99fe2f16",
   "metadata": {},
   "outputs": [],
   "source": []
  }
 ],
 "metadata": {
  "kernelspec": {
   "display_name": "Python 3 (ipykernel)",
   "language": "python",
   "name": "python3"
  },
  "language_info": {
   "codemirror_mode": {
    "name": "ipython",
    "version": 3
   },
   "file_extension": ".py",
   "mimetype": "text/x-python",
   "name": "python",
   "nbconvert_exporter": "python",
   "pygments_lexer": "ipython3",
   "version": "3.6.13"
  }
 },
 "nbformat": 4,
 "nbformat_minor": 5
}
