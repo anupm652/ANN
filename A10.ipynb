{
 "cells": [
  {
   "cell_type": "code",
   "execution_count": 1,
   "metadata": {},
   "outputs": [],
   "source": [
    "import tensorflow as tf"
   ]
  },
  {
   "cell_type": "code",
   "execution_count": 4,
   "metadata": {},
   "outputs": [],
   "source": [
    "model = tf.keras.applications.MobileNetV2(weights='imagenet')"
   ]
  },
  {
   "cell_type": "code",
   "execution_count": 8,
   "metadata": {},
   "outputs": [],
   "source": [
    "image = tf.keras.preprocessing.image.load_img('download.jpeg', target_size = (224, 224))\n",
    "image = tf.keras.preprocessing.image.img_to_array(image)\n",
    "image = tf.keras.applications.mobilenet_v2.preprocess_input(image)\n",
    "image = tf.expand_dims(image, axis = 0)"
   ]
  },
  {
   "cell_type": "code",
   "execution_count": 10,
   "metadata": {},
   "outputs": [],
   "source": [
    "predictions = model.predict(image)\n",
    "decoded_prediction = tf.keras.applications.mobilenet_v2.decode_predictions(predictions)"
   ]
  },
  {
   "cell_type": "code",
   "execution_count": 11,
   "metadata": {},
   "outputs": [
    {
     "name": "stdout",
     "output_type": "stream",
     "text": [
      "tiger : 79.41985130310059%\n",
      "tiger_cat : 12.375345081090927%\n",
      "tabby : 1.1651855893433094%\n",
      "triceratops : 0.4395351745188236%\n",
      "zebra : 0.38820093031972647%\n"
     ]
    }
   ],
   "source": [
    "for _, label, confidence in decoded_prediction[0]:\n",
    "    print(f\"{label} : {confidence *100}%\")"
   ]
  },
  {
   "cell_type": "code",
   "execution_count": 12,
   "metadata": {},
   "outputs": [],
   "source": [
    "# import tensorflow as tf\n",
    "# model = tf.keras.applications.MobileNetV2(weights='imagenet')\n",
    "\n",
    "# # Load image and preprocess it\n",
    "# image = tf.keras.preprocessing.image.load_img('Bhakti photo.jpeg', target_size=(224, 224))\n",
    "# image = tf.keras.preprocessing.image.img_to_array(image)\n",
    "# image = tf.keras.applications.mobilenet_v2.preprocess_input(image)\n",
    "# image = tf.expand_dims(image, axis=0)\n",
    "\n",
    "# # Run object detection\n",
    "# predictions = model.predict(image)\n",
    "# decoded_predictions = tf.keras.applications.mobilenet_v2.decode_predictions(predictions)\n",
    "\n",
    "# # Print top predicted objects\n",
    "# for _, label, confidence in decoded_predictions[0]:\n",
    "#     print(f\"{label}: {confidence * 100}%\")\n"
   ]
  },
  {
   "cell_type": "code",
   "execution_count": null,
   "metadata": {},
   "outputs": [],
   "source": []
  }
 ],
 "metadata": {
  "kernelspec": {
   "display_name": "dsfs",
   "language": "python",
   "name": "python3"
  },
  "language_info": {
   "codemirror_mode": {
    "name": "ipython",
    "version": 3
   },
   "file_extension": ".py",
   "mimetype": "text/x-python",
   "name": "python",
   "nbconvert_exporter": "python",
   "pygments_lexer": "ipython3",
   "version": "3.6.13"
  },
  "orig_nbformat": 4
 },
 "nbformat": 4,
 "nbformat_minor": 2
}
